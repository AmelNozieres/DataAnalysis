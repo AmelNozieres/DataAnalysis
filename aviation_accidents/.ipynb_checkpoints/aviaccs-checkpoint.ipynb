{
 "cells": [
  {
   "cell_type": "markdown",
   "metadata": {},
   "source": [
    "# Analysis of Aviation Accidents"
   ]
  },
  {
   "cell_type": "markdown",
   "metadata": {},
   "source": [
    "There I try to find insights through analysing the data set that contains 82,635 aviation accidents that occurred in the U.S., and the metadata associated with them. \n",
    "\n",
    "The data in AviationData.txt file comes from the <a href='https://www.ntsb.gov/_layouts/ntsb.aviation/index.aspx'>National Transportation Safety Board (NTSB)</a>."
   ]
  },
  {
   "cell_type": "code",
   "execution_count": 43,
   "metadata": {},
   "outputs": [],
   "source": [
    "import pandas as pd\n",
    "import matplotlib.pyplot as plt\n",
    "import seaborn as sns\n",
    "from mpl_toolkits.basemap import Basemap"
   ]
  },
  {
   "cell_type": "markdown",
   "metadata": {},
   "source": [
    "## Load and prepare data"
   ]
  },
  {
   "cell_type": "code",
   "execution_count": 44,
   "metadata": {},
   "outputs": [],
   "source": [
    "df = pd.read_csv('AviationData.txt', delimiter='|')\n",
    "df.columns = df.columns.str.strip()\n",
    "for col in df.columns:\n",
    "    df[col] = df[col].str.strip()"
   ]
  },
  {
   "cell_type": "code",
   "execution_count": 45,
   "metadata": {},
   "outputs": [
    {
     "data": {
      "text/html": [
       "<div>\n",
       "<style scoped>\n",
       "    .dataframe tbody tr th:only-of-type {\n",
       "        vertical-align: middle;\n",
       "    }\n",
       "\n",
       "    .dataframe tbody tr th {\n",
       "        vertical-align: top;\n",
       "    }\n",
       "\n",
       "    .dataframe thead th {\n",
       "        text-align: right;\n",
       "    }\n",
       "</style>\n",
       "<table border=\"1\" class=\"dataframe\">\n",
       "  <thead>\n",
       "    <tr style=\"text-align: right;\">\n",
       "      <th></th>\n",
       "      <th>Event Id</th>\n",
       "      <th>Investigation Type</th>\n",
       "      <th>Accident Number</th>\n",
       "      <th>Event Date</th>\n",
       "      <th>Location</th>\n",
       "      <th>Country</th>\n",
       "      <th>Latitude</th>\n",
       "      <th>Longitude</th>\n",
       "      <th>Airport Code</th>\n",
       "      <th>Airport Name</th>\n",
       "      <th>...</th>\n",
       "      <th>Air Carrier</th>\n",
       "      <th>Total Fatal Injuries</th>\n",
       "      <th>Total Serious Injuries</th>\n",
       "      <th>Total Minor Injuries</th>\n",
       "      <th>Total Uninjured</th>\n",
       "      <th>Weather Condition</th>\n",
       "      <th>Broad Phase of Flight</th>\n",
       "      <th>Report Status</th>\n",
       "      <th>Publication Date</th>\n",
       "      <th></th>\n",
       "    </tr>\n",
       "  </thead>\n",
       "  <tbody>\n",
       "    <tr>\n",
       "      <th>0</th>\n",
       "      <td>20181217X10943</td>\n",
       "      <td>Accident</td>\n",
       "      <td>GAA19CA098</td>\n",
       "      <td>12/16/2018</td>\n",
       "      <td>Grangville, ID</td>\n",
       "      <td>United States</td>\n",
       "      <td>45.583611</td>\n",
       "      <td>-115.681667</td>\n",
       "      <td>PVT</td>\n",
       "      <td></td>\n",
       "      <td>...</td>\n",
       "      <td></td>\n",
       "      <td></td>\n",
       "      <td></td>\n",
       "      <td></td>\n",
       "      <td>1</td>\n",
       "      <td></td>\n",
       "      <td></td>\n",
       "      <td>Preliminary</td>\n",
       "      <td>12/18/2018</td>\n",
       "      <td></td>\n",
       "    </tr>\n",
       "    <tr>\n",
       "      <th>1</th>\n",
       "      <td>20181217X25746</td>\n",
       "      <td>Accident</td>\n",
       "      <td>GAA19CA097</td>\n",
       "      <td>12/15/2018</td>\n",
       "      <td>MORIARTY, NM</td>\n",
       "      <td>United States</td>\n",
       "      <td>34.970000</td>\n",
       "      <td>-106.000000</td>\n",
       "      <td>0E0</td>\n",
       "      <td>MORIARTY MUNI</td>\n",
       "      <td>...</td>\n",
       "      <td></td>\n",
       "      <td></td>\n",
       "      <td></td>\n",
       "      <td></td>\n",
       "      <td>1</td>\n",
       "      <td>VMC</td>\n",
       "      <td></td>\n",
       "      <td>Preliminary</td>\n",
       "      <td>12/20/2018</td>\n",
       "      <td></td>\n",
       "    </tr>\n",
       "    <tr>\n",
       "      <th>2</th>\n",
       "      <td>20181213X41114</td>\n",
       "      <td>Accident</td>\n",
       "      <td>ERA19LA065</td>\n",
       "      <td>12/13/2018</td>\n",
       "      <td>Punta Gorda, FL</td>\n",
       "      <td>United States</td>\n",
       "      <td>26.925278</td>\n",
       "      <td>-82.001111</td>\n",
       "      <td>PGD</td>\n",
       "      <td>Punta Gorda</td>\n",
       "      <td>...</td>\n",
       "      <td></td>\n",
       "      <td></td>\n",
       "      <td></td>\n",
       "      <td>1</td>\n",
       "      <td></td>\n",
       "      <td>VMC</td>\n",
       "      <td>APPROACH</td>\n",
       "      <td>Preliminary</td>\n",
       "      <td>12/21/2018</td>\n",
       "      <td></td>\n",
       "    </tr>\n",
       "    <tr>\n",
       "      <th>3</th>\n",
       "      <td>20181213X45528</td>\n",
       "      <td>Accident</td>\n",
       "      <td>CEN19FA044</td>\n",
       "      <td>12/13/2018</td>\n",
       "      <td>Valparaiso, IN</td>\n",
       "      <td>United States</td>\n",
       "      <td>41.451667</td>\n",
       "      <td>-87.004444</td>\n",
       "      <td>VPZ</td>\n",
       "      <td>Porter County Rgnl</td>\n",
       "      <td>...</td>\n",
       "      <td></td>\n",
       "      <td>1</td>\n",
       "      <td></td>\n",
       "      <td></td>\n",
       "      <td></td>\n",
       "      <td>VMC</td>\n",
       "      <td>TAKEOFF</td>\n",
       "      <td>Preliminary</td>\n",
       "      <td>12/19/2018</td>\n",
       "      <td></td>\n",
       "    </tr>\n",
       "    <tr>\n",
       "      <th>4</th>\n",
       "      <td>20181214X90303</td>\n",
       "      <td>Accident</td>\n",
       "      <td>GAA19CA096</td>\n",
       "      <td>12/11/2018</td>\n",
       "      <td>Hartford, WI</td>\n",
       "      <td>United States</td>\n",
       "      <td>43.330278</td>\n",
       "      <td>-88.326111</td>\n",
       "      <td>HXF</td>\n",
       "      <td>Hartford Muni</td>\n",
       "      <td>...</td>\n",
       "      <td></td>\n",
       "      <td></td>\n",
       "      <td></td>\n",
       "      <td></td>\n",
       "      <td>1</td>\n",
       "      <td>VMC</td>\n",
       "      <td></td>\n",
       "      <td>Preliminary</td>\n",
       "      <td>12/18/2018</td>\n",
       "      <td></td>\n",
       "    </tr>\n",
       "  </tbody>\n",
       "</table>\n",
       "<p>5 rows × 32 columns</p>\n",
       "</div>"
      ],
      "text/plain": [
       "         Event Id Investigation Type Accident Number  Event Date  \\\n",
       "0  20181217X10943           Accident      GAA19CA098  12/16/2018   \n",
       "1  20181217X25746           Accident      GAA19CA097  12/15/2018   \n",
       "2  20181213X41114           Accident      ERA19LA065  12/13/2018   \n",
       "3  20181213X45528           Accident      CEN19FA044  12/13/2018   \n",
       "4  20181214X90303           Accident      GAA19CA096  12/11/2018   \n",
       "\n",
       "          Location        Country   Latitude    Longitude Airport Code  \\\n",
       "0   Grangville, ID  United States  45.583611  -115.681667          PVT   \n",
       "1     MORIARTY, NM  United States  34.970000  -106.000000          0E0   \n",
       "2  Punta Gorda, FL  United States  26.925278   -82.001111          PGD   \n",
       "3   Valparaiso, IN  United States  41.451667   -87.004444          VPZ   \n",
       "4     Hartford, WI  United States  43.330278   -88.326111          HXF   \n",
       "\n",
       "         Airport Name ... Air Carrier Total Fatal Injuries  \\\n",
       "0                     ...                                    \n",
       "1       MORIARTY MUNI ...                                    \n",
       "2         Punta Gorda ...                                    \n",
       "3  Porter County Rgnl ...                                1   \n",
       "4       Hartford Muni ...                                    \n",
       "\n",
       "  Total Serious Injuries Total Minor Injuries Total Uninjured  \\\n",
       "0                                                           1   \n",
       "1                                                           1   \n",
       "2                                           1                   \n",
       "3                                                               \n",
       "4                                                           1   \n",
       "\n",
       "  Weather Condition Broad Phase of Flight Report Status Publication Date    \n",
       "0                                           Preliminary       12/18/2018    \n",
       "1               VMC                         Preliminary       12/20/2018    \n",
       "2               VMC              APPROACH   Preliminary       12/21/2018    \n",
       "3               VMC               TAKEOFF   Preliminary       12/19/2018    \n",
       "4               VMC                         Preliminary       12/18/2018    \n",
       "\n",
       "[5 rows x 32 columns]"
      ]
     },
     "execution_count": 45,
     "metadata": {},
     "output_type": "execute_result"
    }
   ],
   "source": [
    "df.head()"
   ]
  },
  {
   "cell_type": "markdown",
   "metadata": {},
   "source": [
    "Remove useless columns such as 'Event Id', 'Accident Number', 'Report Status', 'Publication Date'."
   ]
  },
  {
   "cell_type": "code",
   "execution_count": 46,
   "metadata": {},
   "outputs": [],
   "source": [
    "df = df.drop(['Event Id', 'Accident Number', 'Report Status', 'Publication Date', 'Registration Number', 'Airport Code', 'Airport Name', 'FAR Description', ''], axis=1)"
   ]
  },
  {
   "cell_type": "code",
   "execution_count": 47,
   "metadata": {},
   "outputs": [
    {
     "data": {
      "text/plain": [
       "Accident    79289\n",
       "Incident     3345\n",
       "                1\n",
       "Name: Investigation Type, dtype: int64"
      ]
     },
     "execution_count": 47,
     "metadata": {},
     "output_type": "execute_result"
    }
   ],
   "source": [
    "df['Investigation Type'].value_counts()"
   ]
  },
  {
   "cell_type": "markdown",
   "metadata": {},
   "source": [
    "Here, I analyze only accident events, so remove Incident data and the columns itself."
   ]
  },
  {
   "cell_type": "code",
   "execution_count": 48,
   "metadata": {},
   "outputs": [
    {
     "name": "stdout",
     "output_type": "stream",
     "text": [
      "<class 'pandas.core.frame.DataFrame'>\n",
      "Int64Index: 79289 entries, 0 to 82634\n",
      "Data columns (total 22 columns):\n",
      "Event Date                79289 non-null object\n",
      "Location                  79289 non-null object\n",
      "Country                   79289 non-null object\n",
      "Latitude                  79289 non-null object\n",
      "Longitude                 79289 non-null object\n",
      "Injury Severity           79289 non-null object\n",
      "Aircraft Damage           79289 non-null object\n",
      "Aircraft Category         79289 non-null object\n",
      "Make                      79289 non-null object\n",
      "Model                     79289 non-null object\n",
      "Amateur Built             79289 non-null object\n",
      "Number of Engines         79289 non-null object\n",
      "Engine Type               79289 non-null object\n",
      "Schedule                  79289 non-null object\n",
      "Purpose of Flight         79289 non-null object\n",
      "Air Carrier               79289 non-null object\n",
      "Total Fatal Injuries      79289 non-null object\n",
      "Total Serious Injuries    79289 non-null object\n",
      "Total Minor Injuries      79289 non-null object\n",
      "Total Uninjured           79289 non-null object\n",
      "Weather Condition         79289 non-null object\n",
      "Broad Phase of Flight     79289 non-null object\n",
      "dtypes: object(22)\n",
      "memory usage: 13.9+ MB\n"
     ]
    }
   ],
   "source": [
    "df = df[df['Investigation Type'] == 'Accident'].drop('Investigation Type', axis=1)\n",
    "df.info()"
   ]
  },
  {
   "cell_type": "code",
   "execution_count": 49,
   "metadata": {},
   "outputs": [
    {
     "data": {
      "text/plain": [
       "United States         0.948152\n",
       "                      0.005827\n",
       "Canada                0.003090\n",
       "Brazil                0.002964\n",
       "Mexico                0.002901\n",
       "Bahamas               0.002371\n",
       "United Kingdom        0.002094\n",
       "Australia             0.002068\n",
       "France                0.001766\n",
       "Germany               0.001703\n",
       "Colombia              0.001564\n",
       "Spain                 0.001148\n",
       "Venezuela             0.001110\n",
       "Ecuador               0.000921\n",
       "Argentina             0.000883\n",
       "Italy                 0.000870\n",
       "Russia                0.000807\n",
       "Japan                 0.000744\n",
       "Dominican Republic    0.000732\n",
       "Indonesia             0.000719\n",
       "Guatemala             0.000681\n",
       "Peru                  0.000668\n",
       "Switzerland           0.000593\n",
       "Austria               0.000555\n",
       "South Africa          0.000542\n",
       "New Zealand           0.000517\n",
       "Chile                 0.000517\n",
       "Ireland               0.000454\n",
       "Costa Rica            0.000441\n",
       "China                 0.000416\n",
       "                        ...   \n",
       "Mauritania            0.000013\n",
       "Lebanon               0.000013\n",
       "Ivory Coast           0.000013\n",
       "Lithuania             0.000013\n",
       "Oman                  0.000013\n",
       "Reunion               0.000013\n",
       "Rwanda                0.000013\n",
       "Niger                 0.000013\n",
       "Comoros               0.000013\n",
       "Malta                 0.000013\n",
       "Burma                 0.000013\n",
       "Montserrat            0.000013\n",
       "Isle of Man           0.000013\n",
       "Gibraltar             0.000013\n",
       "Palau                 0.000013\n",
       "St Lucia              0.000013\n",
       "Eritrea               0.000013\n",
       "Vanuatu               0.000013\n",
       "Qatar                 0.000013\n",
       "Libya                 0.000013\n",
       "Liberia               0.000013\n",
       "Senegal               0.000013\n",
       "Guinea                0.000013\n",
       "Sierra Leone          0.000013\n",
       "Cambodia              0.000013\n",
       "Macedonia             0.000013\n",
       "Bulgaria              0.000013\n",
       "Anguilla              0.000013\n",
       "New Caledonia         0.000013\n",
       "Laos                  0.000013\n",
       "Name: Country, Length: 174, dtype: float64"
      ]
     },
     "execution_count": 49,
     "metadata": {},
     "output_type": "execute_result"
    }
   ],
   "source": [
    "df['Country'].value_counts(normalize=True)"
   ]
  },
  {
   "cell_type": "markdown",
   "metadata": {},
   "source": [
    "95% of data is for the United States, so remove data from other countries."
   ]
  },
  {
   "cell_type": "code",
   "execution_count": 50,
   "metadata": {},
   "outputs": [
    {
     "name": "stdout",
     "output_type": "stream",
     "text": [
      "<class 'pandas.core.frame.DataFrame'>\n",
      "Int64Index: 75178 entries, 0 to 82634\n",
      "Data columns (total 21 columns):\n",
      "Event Date                75178 non-null object\n",
      "Location                  75178 non-null object\n",
      "Latitude                  75178 non-null object\n",
      "Longitude                 75178 non-null object\n",
      "Injury Severity           75178 non-null object\n",
      "Aircraft Damage           75178 non-null object\n",
      "Aircraft Category         75178 non-null object\n",
      "Make                      75178 non-null object\n",
      "Model                     75178 non-null object\n",
      "Amateur Built             75178 non-null object\n",
      "Number of Engines         75178 non-null object\n",
      "Engine Type               75178 non-null object\n",
      "Schedule                  75178 non-null object\n",
      "Purpose of Flight         75178 non-null object\n",
      "Air Carrier               75178 non-null object\n",
      "Total Fatal Injuries      75178 non-null object\n",
      "Total Serious Injuries    75178 non-null object\n",
      "Total Minor Injuries      75178 non-null object\n",
      "Total Uninjured           75178 non-null object\n",
      "Weather Condition         75178 non-null object\n",
      "Broad Phase of Flight     75178 non-null object\n",
      "dtypes: object(21)\n",
      "memory usage: 12.6+ MB\n"
     ]
    }
   ],
   "source": [
    "df = df[df['Country'] == 'United States'].drop('Country', axis=1)\n",
    "df.info()"
   ]
  },
  {
   "cell_type": "code",
   "execution_count": 51,
   "metadata": {},
   "outputs": [
    {
     "data": {
      "text/plain": [
       "                     52511\n",
       "Airplane             19529\n",
       "Helicopter            2200\n",
       "Glider                 427\n",
       "Balloon                189\n",
       "Weight-Shift            92\n",
       "Gyrocraft               88\n",
       "Powered Parachute       58\n",
       "Gyroplane               48\n",
       "Ultralight              25\n",
       "Blimp                    4\n",
       "Unknown                  4\n",
       "Powered-Lift             2\n",
       "Rocket                   1\n",
       "Name: Aircraft Category, dtype: int64"
      ]
     },
     "execution_count": 51,
     "metadata": {},
     "output_type": "execute_result"
    }
   ],
   "source": [
    "df['Aircraft Category'].value_counts()"
   ]
  },
  {
   "cell_type": "markdown",
   "metadata": {},
   "source": [
    "Here, we consider accidents in the aerobus only."
   ]
  },
  {
   "cell_type": "code",
   "execution_count": 52,
   "metadata": {},
   "outputs": [
    {
     "name": "stdout",
     "output_type": "stream",
     "text": [
      "<class 'pandas.core.frame.DataFrame'>\n",
      "Int64Index: 72040 entries, 0 to 82634\n",
      "Data columns (total 20 columns):\n",
      "Event Date                72040 non-null object\n",
      "Location                  72040 non-null object\n",
      "Latitude                  72040 non-null object\n",
      "Longitude                 72040 non-null object\n",
      "Injury Severity           72040 non-null object\n",
      "Aircraft Damage           72040 non-null object\n",
      "Make                      72040 non-null object\n",
      "Model                     72040 non-null object\n",
      "Amateur Built             72040 non-null object\n",
      "Number of Engines         72040 non-null object\n",
      "Engine Type               72040 non-null object\n",
      "Schedule                  72040 non-null object\n",
      "Purpose of Flight         72040 non-null object\n",
      "Air Carrier               72040 non-null object\n",
      "Total Fatal Injuries      72040 non-null object\n",
      "Total Serious Injuries    72040 non-null object\n",
      "Total Minor Injuries      72040 non-null object\n",
      "Total Uninjured           72040 non-null object\n",
      "Weather Condition         72040 non-null object\n",
      "Broad Phase of Flight     72040 non-null object\n",
      "dtypes: object(20)\n",
      "memory usage: 11.5+ MB\n"
     ]
    }
   ],
   "source": [
    "df = df[(df['Aircraft Category'] == 'Airplane') | (df['Aircraft Category'] == '')].drop('Aircraft Category', axis=1)\n",
    "df.info()"
   ]
  },
  {
   "cell_type": "code",
   "execution_count": 53,
   "metadata": {},
   "outputs": [
    {
     "data": {
      "text/plain": [
       "Event Date                    0\n",
       "Location                     20\n",
       "Latitude                  48221\n",
       "Longitude                 48229\n",
       "Injury Severity               0\n",
       "Aircraft Damage             887\n",
       "Make                         10\n",
       "Model                        24\n",
       "Amateur Built                93\n",
       "Number of Engines          1316\n",
       "Engine Type                 686\n",
       "Schedule                  64176\n",
       "Purpose of Flight          1486\n",
       "Air Carrier               69267\n",
       "Total Fatal Injuries      20771\n",
       "Total Serious Injuries    22134\n",
       "Total Minor Injuries      20928\n",
       "Total Uninjured            9920\n",
       "Weather Condition           227\n",
       "Broad Phase of Flight      2431\n",
       "dtype: int64"
      ]
     },
     "execution_count": 53,
     "metadata": {},
     "output_type": "execute_result"
    }
   ],
   "source": [
    "(df == '').sum()"
   ]
  },
  {
   "cell_type": "markdown",
   "metadata": {},
   "source": [
    "Nearly almost values are empty in *Air Carrier* and *Schedule* features, so remove them."
   ]
  },
  {
   "cell_type": "code",
   "execution_count": 54,
   "metadata": {},
   "outputs": [],
   "source": [
    "df = df.drop(['Air Carrier', 'Schedule'], axis=1)"
   ]
  },
  {
   "cell_type": "markdown",
   "metadata": {},
   "source": [
    "## Which company's airplanes cause accidents the most?"
   ]
  },
  {
   "cell_type": "code",
   "execution_count": 55,
   "metadata": {},
   "outputs": [
    {
     "data": {
      "text/plain": [
       "Text(0.5, 1.0, 'Accident percentage by Maker')"
      ]
     },
     "execution_count": 55,
     "metadata": {},
     "output_type": "execute_result"
    },
    {
     "data": {
      "image/png": "[encoded data removed]",
      "text/plain": [
       "<Figure size 432x288 with 1 Axes>"
      ]
     },
     "metadata": {},
     "output_type": "display_data"
    }
   ],
   "source": [
    "df['Make'] = df['Make'].str.lower()\n",
    "accident_frequency = df['Make'].value_counts(normalize=True).head(10)*100\n",
    "accident_frequency.plot.bar()\n",
    "plt.title('Accident percentage by Maker')"
   ]
  },
  {
   "cell_type": "markdown",
   "metadata": {},
   "source": [
    "** More than one third of aviation accidents happen in CESSNA planes.**\n",
    "1. cessna      33.8%\n",
    "2. piper       18.4%\n",
    "3. beech        6.4%\n",
    "4. bell         2.2%\n",
    "5. mooney       1.7%\n",
    "6. grumman      1.5%\n",
    "7. bellanca     1.4%\n",
    "8. boeing       1.2%\n",
    "9. hughes       0.9%\n",
    "10.robinson     0.8%\n",
    "\n",
    "** Never take on CESSNA planes. **"
   ]
  },
  {
   "cell_type": "markdown",
   "metadata": {},
   "source": [
    "## Which season/month accidents occur in?"
   ]
  },
  {
   "cell_type": "code",
   "execution_count": 56,
   "metadata": {},
   "outputs": [
    {
     "data": {
      "text/html": [
       "<div>\n",
       "<style scoped>\n",
       "    .dataframe tbody tr th:only-of-type {\n",
       "        vertical-align: middle;\n",
       "    }\n",
       "\n",
       "    .dataframe tbody tr th {\n",
       "        vertical-align: top;\n",
       "    }\n",
       "\n",
       "    .dataframe thead th {\n",
       "        text-align: right;\n",
       "    }\n",
       "</style>\n",
       "<table border=\"1\" class=\"dataframe\">\n",
       "  <thead>\n",
       "    <tr style=\"text-align: right;\">\n",
       "      <th></th>\n",
       "      <th>Event Date</th>\n",
       "      <th>Location</th>\n",
       "      <th>Latitude</th>\n",
       "      <th>Longitude</th>\n",
       "      <th>Injury Severity</th>\n",
       "      <th>Aircraft Damage</th>\n",
       "      <th>Make</th>\n",
       "      <th>Model</th>\n",
       "      <th>Amateur Built</th>\n",
       "      <th>Number of Engines</th>\n",
       "      <th>Engine Type</th>\n",
       "      <th>Purpose of Flight</th>\n",
       "      <th>Total Fatal Injuries</th>\n",
       "      <th>Total Serious Injuries</th>\n",
       "      <th>Total Minor Injuries</th>\n",
       "      <th>Total Uninjured</th>\n",
       "      <th>Weather Condition</th>\n",
       "      <th>Broad Phase of Flight</th>\n",
       "    </tr>\n",
       "  </thead>\n",
       "  <tbody>\n",
       "    <tr>\n",
       "      <th>0</th>\n",
       "      <td>2018-12-16</td>\n",
       "      <td>Grangville, ID</td>\n",
       "      <td>45.583611</td>\n",
       "      <td>-115.681667</td>\n",
       "      <td>Non-Fatal</td>\n",
       "      <td>Substantial</td>\n",
       "      <td>cessna</td>\n",
       "      <td>170</td>\n",
       "      <td>No</td>\n",
       "      <td>1</td>\n",
       "      <td></td>\n",
       "      <td>Positioning</td>\n",
       "      <td></td>\n",
       "      <td></td>\n",
       "      <td></td>\n",
       "      <td>1</td>\n",
       "      <td></td>\n",
       "      <td></td>\n",
       "    </tr>\n",
       "    <tr>\n",
       "      <th>1</th>\n",
       "      <td>2018-12-15</td>\n",
       "      <td>MORIARTY, NM</td>\n",
       "      <td>34.970000</td>\n",
       "      <td>-106.000000</td>\n",
       "      <td>Non-Fatal</td>\n",
       "      <td>Substantial</td>\n",
       "      <td>cessna</td>\n",
       "      <td>180</td>\n",
       "      <td>No</td>\n",
       "      <td>1</td>\n",
       "      <td></td>\n",
       "      <td>Personal</td>\n",
       "      <td></td>\n",
       "      <td></td>\n",
       "      <td></td>\n",
       "      <td>1</td>\n",
       "      <td>VMC</td>\n",
       "      <td></td>\n",
       "    </tr>\n",
       "    <tr>\n",
       "      <th>2</th>\n",
       "      <td>2018-12-13</td>\n",
       "      <td>Punta Gorda, FL</td>\n",
       "      <td>26.925278</td>\n",
       "      <td>-82.001111</td>\n",
       "      <td>Non-Fatal</td>\n",
       "      <td>Substantial</td>\n",
       "      <td>czech sport aircraft as</td>\n",
       "      <td>Piper Sport</td>\n",
       "      <td>No</td>\n",
       "      <td>1</td>\n",
       "      <td>Reciprocating</td>\n",
       "      <td>Personal</td>\n",
       "      <td></td>\n",
       "      <td></td>\n",
       "      <td>1</td>\n",
       "      <td></td>\n",
       "      <td>VMC</td>\n",
       "      <td>APPROACH</td>\n",
       "    </tr>\n",
       "    <tr>\n",
       "      <th>3</th>\n",
       "      <td>2018-12-13</td>\n",
       "      <td>Valparaiso, IN</td>\n",
       "      <td>41.451667</td>\n",
       "      <td>-87.004444</td>\n",
       "      <td>Fatal(1)</td>\n",
       "      <td>Destroyed</td>\n",
       "      <td>piper</td>\n",
       "      <td>PA24</td>\n",
       "      <td>No</td>\n",
       "      <td>1</td>\n",
       "      <td>Reciprocating</td>\n",
       "      <td>Personal</td>\n",
       "      <td>1</td>\n",
       "      <td></td>\n",
       "      <td></td>\n",
       "      <td></td>\n",
       "      <td>VMC</td>\n",
       "      <td>TAKEOFF</td>\n",
       "    </tr>\n",
       "    <tr>\n",
       "      <th>4</th>\n",
       "      <td>2018-12-11</td>\n",
       "      <td>Hartford, WI</td>\n",
       "      <td>43.330278</td>\n",
       "      <td>-88.326111</td>\n",
       "      <td>Non-Fatal</td>\n",
       "      <td>Substantial</td>\n",
       "      <td>beech</td>\n",
       "      <td>36</td>\n",
       "      <td>No</td>\n",
       "      <td>1</td>\n",
       "      <td></td>\n",
       "      <td>Personal</td>\n",
       "      <td></td>\n",
       "      <td></td>\n",
       "      <td></td>\n",
       "      <td>1</td>\n",
       "      <td>VMC</td>\n",
       "      <td></td>\n",
       "    </tr>\n",
       "  </tbody>\n",
       "</table>\n",
       "</div>"
      ],
      "text/plain": [
       "  Event Date         Location   Latitude    Longitude Injury Severity  \\\n",
       "0 2018-12-16   Grangville, ID  45.583611  -115.681667       Non-Fatal   \n",
       "1 2018-12-15     MORIARTY, NM  34.970000  -106.000000       Non-Fatal   \n",
       "2 2018-12-13  Punta Gorda, FL  26.925278   -82.001111       Non-Fatal   \n",
       "3 2018-12-13   Valparaiso, IN  41.451667   -87.004444        Fatal(1)   \n",
       "4 2018-12-11     Hartford, WI  43.330278   -88.326111       Non-Fatal   \n",
       "\n",
       "  Aircraft Damage                     Make        Model Amateur Built  \\\n",
       "0     Substantial                   cessna          170            No   \n",
       "1     Substantial                   cessna          180            No   \n",
       "2     Substantial  czech sport aircraft as  Piper Sport            No   \n",
       "3       Destroyed                    piper         PA24            No   \n",
       "4     Substantial                    beech           36            No   \n",
       "\n",
       "  Number of Engines    Engine Type Purpose of Flight Total Fatal Injuries  \\\n",
       "0                 1                      Positioning                        \n",
       "1                 1                         Personal                        \n",
       "2                 1  Reciprocating          Personal                        \n",
       "3                 1  Reciprocating          Personal                    1   \n",
       "4                 1                         Personal                        \n",
       "\n",
       "  Total Serious Injuries Total Minor Injuries Total Uninjured  \\\n",
       "0                                                           1   \n",
       "1                                                           1   \n",
       "2                                           1                   \n",
       "3                                                               \n",
       "4                                                           1   \n",
       "\n",
       "  Weather Condition Broad Phase of Flight  \n",
       "0                                          \n",
       "1               VMC                        \n",
       "2               VMC              APPROACH  \n",
       "3               VMC               TAKEOFF  \n",
       "4               VMC                        "
      ]
     },
     "execution_count": 56,
     "metadata": {},
     "output_type": "execute_result"
    }
   ],
   "source": [
    "df['Event Date'] = pd.to_datetime(df['Event Date'])\n",
    "df.head()"
   ]
  },
  {
   "cell_type": "code",
   "execution_count": 57,
   "metadata": {},
   "outputs": [],
   "source": [
    "df['Year'] = df['Event Date'].dt.year\n",
    "df['Month'] = df['Event Date'].dt.month"
   ]
  },
  {
   "cell_type": "code",
   "execution_count": 58,
   "metadata": {},
   "outputs": [
    {
     "data": {
      "text/plain": [
       "Text(0.5, 1.0, 'Accidents by month')"
      ]
     },
     "execution_count": 58,
     "metadata": {},
     "output_type": "execute_result"
    },
    {
     "data": {
      "image/png": "[encoded data removed]",
      "text/plain": [
       "<Figure size 432x288 with 1 Axes>"
      ]
     },
     "metadata": {},
     "output_type": "display_data"
    }
   ],
   "source": [
    "monthly = df['Month'].value_counts().sort_index(axis=0)\n",
    "monthly.plot.bar()\n",
    "plt.xticks(rotation=0)\n",
    "plt.title('Accidents by month')"
   ]
  },
  {
   "cell_type": "markdown",
   "metadata": {},
   "source": [
    "**Winter is a safe and summer is a dangerous season for flight.**"
   ]
  },
  {
   "cell_type": "code",
   "execution_count": 65,
   "metadata": {},
   "outputs": [
    {
     "data": {
      "text/plain": [
       "Text(0.5, 1.0, 'Change of yearly accidents')"
      ]
     },
     "execution_count": 65,
     "metadata": {},
     "output_type": "execute_result"
    },
    {
     "data": {
      "image/png": "[encoded data removed]",
      "text/plain": [
       "<Figure size 432x288 with 1 Axes>"
      ]
     },
     "metadata": {},
     "output_type": "display_data"
    }
   ],
   "source": [
    "df[df['Year']>1981].loc[:, 'Year'].value_counts().sort_index().plot()\n",
    "plt.title('Change of yearly accidents')"
   ]
  },
  {
   "cell_type": "markdown",
   "metadata": {},
   "source": [
    "** Aviation accidents are decreasing as years gone by.**"
   ]
  },
  {
   "cell_type": "code",
   "execution_count": null,
   "metadata": {},
   "outputs": [],
   "source": []
  }
 ],
 "metadata": {
  "kernelspec": {
   "display_name": "Python 3",
   "language": "python",
   "name": "python3"
  },
  "language_info": {
   "codemirror_mode": {
    "name": "ipython",
    "version": 3
   },
   "file_extension": ".py",
   "mimetype": "text/x-python",
   "name": "python",
   "nbconvert_exporter": "python",
   "pygments_lexer": "ipython3",
   "version": "3.6.7"
  }
 },
 "nbformat": 4,
 "nbformat_minor": 2
}
